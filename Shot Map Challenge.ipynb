{
 "cells": [
  {
   "cell_type": "markdown",
   "id": "05644c8a-37ef-457f-8b45-825b0f3ed8df",
   "metadata": {},
   "source": [
    "# Creating a Basketball Shot Map\n",
    "\n",
    "We are going to look at NBA shot data using the [nba_api](https://github.com/swar/nba_api) code library in order to create a shot map!\n",
    "\n",
    "Short URL: https://bit.ly/bads-demo\n",
    "\n",
    "(Open in \n",
    "[Callysto](https://hub.callysto.ca/jupyter/hub/user-redirect/git-pull?repo=https://github.com/pbeens/BADS-Demo&branch=main&subPath=Shot%20Map%20Challenge.ipynb&depth=1) | [Colab](https://githubtocolab.com/pbeens/BADS-Demo/blob/main/Shot%20Map%20Challenge.ipynb))\n",
    "\n",
    "### Setup\n",
    "\n",
    "First, we need to install the API. Run the following cell. You must then restart Kernel (go to Kernel -> Restart) to ensure the API is installed. You only need to do this once!"
   ]
  },
  {
   "cell_type": "code",
   "execution_count": null,
   "id": "eb0c3f41",
   "metadata": {},
   "outputs": [],
   "source": [
    "!pip install nba_api -q\n",
    "!pip install pandas -q\n",
    "!pip install plotly.express -q"
   ]
  },
  {
   "cell_type": "markdown",
   "id": "c0e6037c",
   "metadata": {},
   "source": [
    "Next, we will get data for the LA Lakers for the last two seasons and store it in a dataframe called `shots`."
   ]
  },
  {
   "cell_type": "code",
   "execution_count": null,
   "id": "8f3e9f95",
   "metadata": {},
   "outputs": [],
   "source": [
    "import pandas as pd\n",
    "import plotly.express as px\n",
    "\n",
    "from nba_api.stats.static import teams\n",
    "from nba_api.stats.endpoints import shotchartdetail\n",
    "\n",
    "team_name = 'Lakers'\n",
    "seasons = ['2021-22', '2022-23']\n",
    "\n",
    "team = teams.find_teams_by_full_name(team_name)[0]\n",
    "team_id = team['id']\n",
    "shots = pd.DataFrame()\n",
    "\n",
    "for season in seasons:\n",
    "    season_shots = shotchartdetail.ShotChartDetail(team_id=team_id, player_id=0, season_nullable=season, season_type_all_star=['Regular Season', 'Playoffs'], context_measure_simple='FGA').get_data_frames()[0]\n",
    "    season_shots['SEASON'] = season\n",
    "    shots = pd.concat([shots, season_shots])\n",
    "    \n",
    "display(shots)"
   ]
  },
  {
   "cell_type": "markdown",
   "id": "859b9ccd",
   "metadata": {},
   "source": [
    "***Recall:*** *If you want to see all columns in the dataset, we can use* `shots.columns`."
   ]
  },
  {
   "cell_type": "code",
   "execution_count": null,
   "id": "b8b50e1f",
   "metadata": {},
   "outputs": [],
   "source": [
    "shots.columns"
   ]
  },
  {
   "cell_type": "markdown",
   "id": "8eeb6d0c",
   "metadata": {},
   "source": [
    "### Create Your Shot Map\n",
    "Now it's your turn to create a scatterplot of the locations of the shots! You'll need to figure out which variables to use with the x and y-axes.  Make sure to add a title too."
   ]
  },
  {
   "cell_type": "code",
   "execution_count": null,
   "id": "63f12f7f",
   "metadata": {},
   "outputs": [],
   "source": [
    "px.scatter(shots, \n",
    "           x=, \n",
    "           y=,\n",
    "          )"
   ]
  },
  {
   "cell_type": "markdown",
   "id": "80382861",
   "metadata": {},
   "source": [
    "**Challenge: Now modify your above code to explore the following (or create a new one in a cell below)...**\n",
    "1) Can you change the team to the Raptors?\n",
    "2) Can you adjust the height and width of the graph to make it look more like a basketball court? *(Hint: 1000x800 might work!)*\n",
    "3) Can you color the points by if the shot was made or not? *(Hint: look at the variables for columns and see if you can identify which one is made shots)*\n",
    "4) Can you change the color or size by the type of shot?\n",
    "5) Can you colour the points by player?\n",
    "6) Can you make it only display Pascal Siakam's shots?\n",
    "\n",
    "**Find a graph that you think tells an interesting story!**\n",
    "\n",
    "*Hint: Here are some new instructions you can use to modify your scatter plot:*"
   ]
  },
  {
   "cell_type": "markdown",
   "id": "ee52c963",
   "metadata": {},
   "source": [
    "*`height = __` - put in a number to adjust the width of the graph*\n",
    "\n",
    "*`width = __`   - put in a number to adjust the height of the graph*\n",
    "\n",
    "*`hover_data = ['input_variable(s)']` - specify which variables are displayed when you hover over a point*\n",
    "\n",
    "*`animation_frame = 'input_variable'` - specify the variable to animate the graph*"
   ]
  },
  {
   "cell_type": "code",
   "execution_count": null,
   "id": "16249673",
   "metadata": {},
   "outputs": [],
   "source": []
  }
 ],
 "metadata": {
  "kernelspec": {
   "display_name": "Python 3 (ipykernel)",
   "language": "python",
   "name": "python3"
  },
  "language_info": {
   "codemirror_mode": {
    "name": "ipython",
    "version": 3
   },
   "file_extension": ".py",
   "mimetype": "text/x-python",
   "name": "python",
   "nbconvert_exporter": "python",
   "pygments_lexer": "ipython3",
   "version": "3.10.5"
  },
  "vscode": {
   "interpreter": {
    "hash": "916dbcbb3f70747c44a77c7bcd40155683ae19c65e1c03b4aa3499c5328201f1"
   }
  }
 },
 "nbformat": 4,
 "nbformat_minor": 5
}
